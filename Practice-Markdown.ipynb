{
  "cells": [
    {
      "cell_type": "markdown",
      "metadata": {
        "id": "view-in-github",
        "colab_type": "text"
      },
      "source": [
        "<a href=\"https://colab.research.google.com/github/marperez25/duke-coursera-ccf-labs/blob/main/Practice-Markdown.ipynb\" target=\"_parent\"><img src=\"https://colab.research.google.com/assets/colab-badge.svg\" alt=\"Open In Colab\"/></a>"
      ]
    },
    {
      "cell_type": "markdown",
      "metadata": {
        "id": "NWuslZi5WoV1"
      },
      "source": [
        "## Practice Markdown"
      ]
    },
    {
      "cell_type": "markdown",
      "metadata": {
        "id": "eEB1PRLiWoV8"
      },
      "source": [
        "This notebook lets you experiment with producing repeatable technical documentation.  Use this notebook to do the following actions:\n",
        "\n",
        "* Create a code cell and print a Python Hello World statement:  `print(\"hello world\")`\n",
        "* Create a Markdown Cell and add a Title using `#` and then a statement using plain text.  You can looks at the source code for this cell to get an idea of how to use Markdown.\n",
        "* Take some ideas from the [Master Markdown Github Guide](https://guides.github.com/features/mastering-markdown/) and implement them here.\n",
        "* Download this notebook as a `.ipynb` file and check into a Github Project.  You can [see an example here](https://github.com/noahgift/duke-coursera-ccf-lab1/blob/main/Practice-Markdown.ipynb).\n",
        "* Open your notebook in Google Colab and save it into the same Github Project.  You can [see an example here](https://github.com/noahgift/duke-coursera-ccf-lab1/blob/main/Practice_Markdown_with_colab.ipynb).\n"
      ]
    },
    {
      "cell_type": "code",
      "execution_count": null,
      "metadata": {
        "id": "w8gm2TxDWoV_",
        "outputId": "572822b0-f759-4d1a-9574-06c7fac24fb4"
      },
      "outputs": [
        {
          "name": "stdout",
          "output_type": "stream",
          "text": [
            "hello world\n"
          ]
        }
      ],
      "source": [
        "print(\"hello world\")"
      ]
    },
    {
      "cell_type": "markdown",
      "metadata": {
        "id": "RxJef9yXWoWC"
      },
      "source": [
        "# Prime Gaming Benefits\n",
        "## Prime Gaming - Free Games\n",
        "### The list"
      ]
    },
    {
      "cell_type": "markdown",
      "metadata": {
        "id": "7jPaOvuwWoWD"
      },
      "source": [
        "* DIG\n",
        "* The revolution\n",
        "* Castle of the coast"
      ]
    },
    {
      "cell_type": "markdown",
      "metadata": {
        "id": "nAnhzdUHWoWF"
      },
      "source": [
        "the last one called **Castle of the coast** is the most famous"
      ]
    },
    {
      "cell_type": "markdown",
      "metadata": {
        "id": "NU_q5Xd0WoWG"
      },
      "source": [
        "what do you prefer?\n",
        "- [ ] dig\n",
        "- [X] The revolution\n",
        "- [ ] Castle of the coast"
      ]
    },
    {
      "cell_type": "markdown",
      "source": [
        "***this file is edited in colab***"
      ],
      "metadata": {
        "id": "kGeERGRQWyhs"
      }
    }
  ],
  "metadata": {
    "kernelspec": {
      "display_name": "Python 3",
      "language": "python",
      "name": "python3"
    },
    "language_info": {
      "codemirror_mode": {
        "name": "ipython",
        "version": 3
      },
      "file_extension": ".py",
      "mimetype": "text/x-python",
      "name": "python",
      "nbconvert_exporter": "python",
      "pygments_lexer": "ipython3",
      "version": "3.7.6"
    },
    "colab": {
      "provenance": [],
      "include_colab_link": true
    }
  },
  "nbformat": 4,
  "nbformat_minor": 0
}